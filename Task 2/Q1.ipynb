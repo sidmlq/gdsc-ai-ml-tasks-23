{
 "cells": [
  {
   "cell_type": "code",
   "execution_count": 1,
   "metadata": {},
   "outputs": [
    {
     "name": "stdout",
     "output_type": "stream",
     "text": [
      "NumPy Version: 1.24.3\n",
      "NumPy Configuration:\n",
      "blas_armpl_info:\n",
      "  NOT AVAILABLE\n",
      "blas_mkl_info:\n",
      "    libraries = ['mkl_rt']\n",
      "    library_dirs = ['C:/Users/SiddharthS/anaconda3\\\\Library\\\\lib']\n",
      "    define_macros = [('SCIPY_MKL_H', None), ('HAVE_CBLAS', None)]\n",
      "    include_dirs = ['C:/Users/SiddharthS/anaconda3\\\\Library\\\\include']\n",
      "blas_opt_info:\n",
      "    libraries = ['mkl_rt']\n",
      "    library_dirs = ['C:/Users/SiddharthS/anaconda3\\\\Library\\\\lib']\n",
      "    define_macros = [('SCIPY_MKL_H', None), ('HAVE_CBLAS', None)]\n",
      "    include_dirs = ['C:/Users/SiddharthS/anaconda3\\\\Library\\\\include']\n",
      "lapack_armpl_info:\n",
      "  NOT AVAILABLE\n",
      "lapack_mkl_info:\n",
      "    libraries = ['mkl_rt']\n",
      "    library_dirs = ['C:/Users/SiddharthS/anaconda3\\\\Library\\\\lib']\n",
      "    define_macros = [('SCIPY_MKL_H', None), ('HAVE_CBLAS', None)]\n",
      "    include_dirs = ['C:/Users/SiddharthS/anaconda3\\\\Library\\\\include']\n",
      "lapack_opt_info:\n",
      "    libraries = ['mkl_rt']\n",
      "    library_dirs = ['C:/Users/SiddharthS/anaconda3\\\\Library\\\\lib']\n",
      "    define_macros = [('SCIPY_MKL_H', None), ('HAVE_CBLAS', None)]\n",
      "    include_dirs = ['C:/Users/SiddharthS/anaconda3\\\\Library\\\\include']\n",
      "Supported SIMD extensions in this NumPy install:\n",
      "    baseline = SSE,SSE2,SSE3\n",
      "    found = SSSE3,SSE41,POPCNT,SSE42,AVX,F16C,FMA3,AVX2\n",
      "    not found = AVX512F,AVX512CD,AVX512_SKX,AVX512_CLX,AVX512_CNL,AVX512_ICL\n"
     ]
    }
   ],
   "source": [
    "# Print the numpy version and the configuration\n",
    "import numpy as np\n",
    "print(\"NumPy Version:\", np.__version__)\n",
    "print(\"NumPy Configuration:\")\n",
    "np.show_config()"
   ]
  },
  {
   "cell_type": "code",
   "execution_count": 2,
   "metadata": {},
   "outputs": [
    {
     "name": "stdout",
     "output_type": "stream",
     "text": [
      "Original Vector: [ 1  2  3  4  5  6  7  8  9 10 11 12 13 14 15 16 17 18 19 20]\n",
      "Reversed Vector: [20 19 18 17 16 15 14 13 12 11 10  9  8  7  6  5  4  3  2  1]\n"
     ]
    }
   ],
   "source": [
    "# Initialize a vector that contains numbers from 1 to 20 and reverse it\n",
    "vec = np.arange(1, 21)\n",
    "rev_vec = np.flip(vec)\n",
    "print(\"Original Vector:\", vec)\n",
    "print(\"Reversed Vector:\", rev_vec)"
   ]
  },
  {
   "cell_type": "code",
   "execution_count": 3,
   "metadata": {},
   "outputs": [
    {
     "name": "stdout",
     "output_type": "stream",
     "text": [
      "Random 3x3 Array:\n",
      "[[0.26521744 0.95324052 0.47726477]\n",
      " [0.76722498 0.28500296 0.90137644]\n",
      " [0.97300956 0.79766324 0.57034619]]\n",
      "Minimum Value: 0.26521744097369504\n",
      "Maximum Value: 0.9730095571748962\n"
     ]
    }
   ],
   "source": [
    "# Create a 3x3 array with random values and find the minimum and maximum value\n",
    "random_array = np.random.rand(3, 3)\n",
    "min_value = np.min(random_array)\n",
    "max_value = np.max(random_array)\n",
    "print(\"Random 3x3 Array:\")\n",
    "print(random_array)\n",
    "print(\"Minimum Value:\", min_value)\n",
    "print(\"Maximum Value:\", max_value)"
   ]
  },
  {
   "cell_type": "code",
   "execution_count": 4,
   "metadata": {},
   "outputs": [
    {
     "name": "stdout",
     "output_type": "stream",
     "text": [
      "Index of the 100th element: (2, 2, 4)\n"
     ]
    }
   ],
   "source": [
    "# Consider a (5,5,8) shape array, what is the index (x,y,z) of the 100th element?\n",
    "arr_shape = (5, 5, 8)\n",
    "index = np.unravel_index(100, arr_shape)\n",
    "print(\"Index of the 100th element:\", index)"
   ]
  },
  {
   "cell_type": "code",
   "execution_count": 5,
   "metadata": {},
   "outputs": [
    {
     "name": "stdout",
     "output_type": "stream",
     "text": [
      "Common Values between array1 and array2: [3 4 5]\n"
     ]
    }
   ],
   "source": [
    "# How to find common values between two arrays? Demonstrate.\n",
    "array1 = np.array([1, 2, 3, 4, 5])\n",
    "array2 = np.array([3, 4, 5, 6, 7])\n",
    "common_values = np.intersect1d(array1, array2)\n",
    "print(\"Common Values between array1 and array2:\", common_values)"
   ]
  },
  {
   "cell_type": "code",
   "execution_count": 6,
   "metadata": {},
   "outputs": [
    {
     "name": "stdout",
     "output_type": "stream",
     "text": [
      "Cartesian Coordinates:\n",
      "[[0.95163171 0.57465603]\n",
      " [0.56561688 0.90961454]\n",
      " [0.44752668 0.34921192]\n",
      " [0.90885909 0.74816266]\n",
      " [0.41270528 0.59359218]\n",
      " [0.11303662 0.31490732]\n",
      " [0.4362559  0.12844385]\n",
      " [0.93680058 0.16949491]\n",
      " [0.85191886 0.31048351]\n",
      " [0.83924131 0.36507938]]\n",
      "Polar Coordinates:\n",
      "[[1.11168002 0.54325576]\n",
      " [1.07113074 1.01448673]\n",
      " [0.56765226 0.6626223 ]\n",
      " [1.17718827 0.68872141]\n",
      " [0.72296426 0.96325368]\n",
      " [0.33458018 1.22616879]\n",
      " [0.45477141 0.28633263]\n",
      " [0.95201043 0.17899318]\n",
      " [0.90673356 0.34949118]\n",
      " [0.91520977 0.41031958]]\n"
     ]
    }
   ],
   "source": [
    "# Consider a random 10x2 matrix representing cartesian coordinates, convert them to polar coordinates.\n",
    "cartesian_coordinates = np.random.rand(10, 2)\n",
    "x, y = cartesian_coordinates[:, 0], cartesian_coordinates[:, 1]\n",
    "r = np.sqrt(x**2 + y**2)\n",
    "theta = np.arctan2(y, x)\n",
    "polar_coordinates = np.column_stack((r, theta))\n",
    "print(\"Cartesian Coordinates:\")\n",
    "print(cartesian_coordinates)\n",
    "print(\"Polar Coordinates:\")\n",
    "print(polar_coordinates)"
   ]
  },
  {
   "cell_type": "code",
   "execution_count": 7,
   "metadata": {},
   "outputs": [
    {
     "name": "stdout",
     "output_type": "stream",
     "text": [
      "All Values of the random_array:\n",
      "[0.26521744 0.95324052 0.47726477 0.76722498 0.28500296 0.90137644\n",
      " 0.97300956 0.79766324 0.57034619]\n"
     ]
    }
   ],
   "source": [
    "# Demonstrate printing all the values of an array\n",
    "# Printing all values of the random_array created earlier\n",
    "print(\"All Values of the random_array:\")\n",
    "print(random_array.ravel())"
   ]
  },
  {
   "cell_type": "code",
   "execution_count": 8,
   "metadata": {},
   "outputs": [
    {
     "name": "stdout",
     "output_type": "stream",
     "text": [
      "Float Array (32 bits): [1.5 2.7 3.2 4.8]\n",
      "Integer Array (32 bits): [1 2 3 4]\n"
     ]
    }
   ],
   "source": [
    "# How to convert a float (32 bits) array into an integer (32 bits) in place? [Use NumPy Datatypes]\n",
    "float_array = np.array([1.5, 2.7, 3.2, 4.8], dtype=np.float32)\n",
    "int_array = float_array.astype(np.int32)\n",
    "print(\"Float Array (32 bits):\", float_array)\n",
    "print(\"Integer Array (32 bits):\", int_array)"
   ]
  }
 ],
 "metadata": {
  "kernelspec": {
   "display_name": "base",
   "language": "python",
   "name": "python3"
  },
  "language_info": {
   "codemirror_mode": {
    "name": "ipython",
    "version": 3
   },
   "file_extension": ".py",
   "mimetype": "text/x-python",
   "name": "python",
   "nbconvert_exporter": "python",
   "pygments_lexer": "ipython3",
   "version": "3.11.3"
  },
  "orig_nbformat": 4
 },
 "nbformat": 4,
 "nbformat_minor": 2
}
