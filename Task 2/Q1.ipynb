{
 "cells": [
  {
   "cell_type": "code",
   "execution_count": null,
   "metadata": {},
   "outputs": [],
   "source": [
    "# Print the numpy version and the configuration\n",
    "import numpy as np\n",
    "print(\"NumPy Version:\", np.__version__)\n",
    "print(\"NumPy Configuration:\")\n",
    "np.show_config()"
   ]
  },
  {
   "cell_type": "code",
   "execution_count": null,
   "metadata": {},
   "outputs": [],
   "source": [
    "# Initialize a vector that contains numbers from 1 to 20 and reverse it\n",
    "vec = np.arange(1, 21)\n",
    "rev_vec = np.flip(vec)\n",
    "print(\"Original Vector:\", vec)\n",
    "print(\"Reversed Vector:\", rev_vec)"
   ]
  },
  {
   "cell_type": "code",
   "execution_count": null,
   "metadata": {},
   "outputs": [],
   "source": [
    "# Create a 3x3 array with random values and find the minimum and maximum value\n",
    "random_array = np.random.rand(3, 3)\n",
    "min_value = np.min(random_array)\n",
    "max_value = np.max(random_array)\n",
    "print(\"Random 3x3 Array:\")\n",
    "print(random_array)\n",
    "print(\"Minimum Value:\", min_value)\n",
    "print(\"Maximum Value:\", max_value)"
   ]
  },
  {
   "cell_type": "code",
   "execution_count": null,
   "metadata": {},
   "outputs": [],
   "source": [
    "# Consider a (5,5,8) shape array, what is the index (x,y,z) of the 100th element?\n",
    "arr_shape = (5, 5, 8)\n",
    "index = np.unravel_index(100, arr_shape)\n",
    "print(\"Index of the 100th element:\", index)"
   ]
  },
  {
   "cell_type": "code",
   "execution_count": null,
   "metadata": {},
   "outputs": [],
   "source": [
    "# How to find common values between two arrays? Demonstrate.\n",
    "array1 = np.array([1, 2, 3, 4, 5])\n",
    "array2 = np.array([3, 4, 5, 6, 7])\n",
    "common_values = np.intersect1d(array1, array2)\n",
    "print(\"Common Values between array1 and array2:\", common_values)"
   ]
  },
  {
   "cell_type": "code",
   "execution_count": null,
   "metadata": {},
   "outputs": [],
   "source": [
    "# Consider a random 10x2 matrix representing cartesian coordinates, convert them to polar coordinates.\n",
    "cartesian_coordinates = np.random.rand(10, 2)\n",
    "x, y = cartesian_coordinates[:, 0], cartesian_coordinates[:, 1]\n",
    "r = np.sqrt(x**2 + y**2)\n",
    "theta = np.arctan2(y, x)\n",
    "polar_coordinates = np.column_stack((r, theta))\n",
    "print(\"Cartesian Coordinates:\")\n",
    "print(cartesian_coordinates)\n",
    "print(\"Polar Coordinates:\")\n",
    "print(polar_coordinates)"
   ]
  },
  {
   "cell_type": "code",
   "execution_count": null,
   "metadata": {},
   "outputs": [],
   "source": [
    "# Demonstrate printing all the values of an array\n",
    "# Printing all values of the random_array created earlier\n",
    "print(\"All Values of the random_array:\")\n",
    "print(random_array.ravel())"
   ]
  },
  {
   "cell_type": "code",
   "execution_count": null,
   "metadata": {},
   "outputs": [],
   "source": [
    "# How to convert a float (32 bits) array into an integer (32 bits) in place? [Use NumPy Datatypes]\n",
    "float_array = np.array([1.5, 2.7, 3.2, 4.8], dtype=np.float32)\n",
    "int_array = float_array.astype(np.int32)\n",
    "print(\"Float Array (32 bits):\", float_array)\n",
    "print(\"Integer Array (32 bits):\", int_array)"
   ]
  }
 ],
 "metadata": {
  "language_info": {
   "name": "python"
  },
  "orig_nbformat": 4
 },
 "nbformat": 4,
 "nbformat_minor": 2
}
